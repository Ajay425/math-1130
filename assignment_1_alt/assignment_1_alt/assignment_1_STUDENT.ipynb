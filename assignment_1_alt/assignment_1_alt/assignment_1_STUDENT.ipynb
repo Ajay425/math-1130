{
 "cells": [
  {
   "cell_type": "markdown",
   "id": "6de260a0-4fe5-4817-98c6-6ee35bbaae0e",
   "metadata": {},
   "source": [
    "# Assignment 1 -- Insights from Overwatch League"
   ]
  },
  {
   "cell_type": "markdown",
   "id": "16252950-1623-478e-a0e6-8840e698450d",
   "metadata": {},
   "source": [
    "## 76 total marks"
   ]
  },
  {
   "cell_type": "code",
   "execution_count": 1,
   "id": "fdb3db5d-ef72-49da-aa70-c5886f3d78ea",
   "metadata": {},
   "outputs": [],
   "source": [
    "# You will need the following packages\n",
    "import pandas as pd\n",
    "import matplotlib.pyplot as plt\n",
    "import seaborn as sns\n",
    "import numpy as np"
   ]
  },
  {
   "cell_type": "markdown",
   "id": "c90d1731-b63d-400c-a5c7-f9d4a9d63769",
   "metadata": {
    "tags": []
   },
   "source": [
    "## Introduction"
   ]
  },
  {
   "cell_type": "markdown",
   "id": "53bde7b1-8efb-4a29-8e86-4bc0cec0f16c",
   "metadata": {},
   "source": [
    "**Business Context.** You work for Overwatch League, the premier esports league for the game Overwatch. They have collected data about past pro tournaments and would like you to answer some questions about past tournaments. Build visualizations and answer the questions below. \n",
    "\n",
    "**About Overwatch League.** In the Overwatch League, teams of professional players compete against each other to be the best in the world at playing the team-based first-person shooter game, Overwatch.\n",
    "\n",
    "Each match consists of two teams of six players each, with each player selecting one of the game's many heroes to play as. The teams are then tasked with completing various objectives, such as escorting a payload across the map or capturing and holding control points.\n",
    "\n",
    "The team that is able to complete their objectives the quickest or prevent the other team from completing their objectives wins the match.\n",
    "\n",
    "Matches are typically played in a best-of-three format, meaning that the first team to win two rounds is declared the winner. Each round is called a \"map\", and the team that wins the most maps wins the match.\n",
    "\n",
    "The Overwatch League is divided into two seasons per year, with teams from all around the world competing in a variety of different venues. The top teams from each season advance to the playoffs, where they compete for the chance to be crowned the Overwatch League champion. Each map is one of two types, it is either a control map or an escort map.  "
   ]
  },
  {
   "cell_type": "markdown",
   "id": "c8a739c0-cf7d-4b99-b4cf-a39f162200a1",
   "metadata": {},
   "source": [
    "**Business Problem.** Your task is to format the given data and provide visualizations that would answer the specific questions the client has, which are mentioned below."
   ]
  },
  {
   "cell_type": "markdown",
   "id": "76310dca-3d1d-49f2-a0b4-c52f2136d25a",
   "metadata": {},
   "source": [
    "- **Analytical Context.** You are given a CSV file (stored in the already created ```data``` folder) containing details about each match like winning team, map type, date of match, tournament title, etc. \n",
    "You will be performing the following tasks on the data:\n",
    "\n",
    "1. Read, transform, and prepare data for visualization\n",
    "2. Perform analytics and construct visualizations of the data to identify patterns in the dataset\n",
    "        \n",
    "The client has a specific set of questions they would like to get answers to. You will need to provide visualizations to accompany these."
   ]
  },
  {
   "cell_type": "markdown",
   "id": "865fbb9a-d533-49ff-80ef-3c038b2b20b8",
   "metadata": {},
   "source": [
    "# Question 1 -- loading in and getting an overview (5 marks)"
   ]
  },
  {
   "cell_type": "markdown",
   "id": "e2600efd-e7d1-4caf-9131-5e1855500c29",
   "metadata": {},
   "source": [
    "**1a) (1 mark)**  Use the pandas function ```read_csv()``` to load the file ```match_map_stats.csv``` as a DataFrame. Name this DataFrame ```df```. "
   ]
  },
  {
   "cell_type": "markdown",
   "id": "d5cabe66-d5e4-4e41-89b8-b03f67388bc6",
   "metadata": {},
   "source": [
    "**1b) (1 mark)** Print the first 5 rows of the DataFrame"
   ]
  },
  {
   "cell_type": "markdown",
   "id": "f4acc47c-e346-4198-8f92-2f4b846ba998",
   "metadata": {},
   "source": [
    "**1c) (1 mark)** Print the column names in `df`"
   ]
  },
  {
   "cell_type": "markdown",
   "id": "a0b361e2-e998-4978-96b1-7801bb814d87",
   "metadata": {},
   "source": [
    "We have the following columns\n",
    "\n",
    "- **round_start_time** Stating time of the round\n",
    "- **round_end_time** Ending time of the round\n",
    "- **stage** Stage of the competition\n",
    "- **match_id** Id for the match\n",
    "- **game_number** Game number in the given match\n",
    "- **match_winner** Winner of the match\n",
    "- **map_winner** Winner of the game/map\n",
    "- **map_loser** Lost of the game/map\n",
    "- **map_name** Name of map\n",
    "- **map_round** Round number (each map has several rounds)\n",
    "- **winning_team_final_map_score** Final score of map winner\n",
    "- **losing_team_final_map_score** Final score of map loser\n",
    "- **control_round_name** Name of the round if it was a control type map\n",
    "- **attacker** Team that was the attacker\n",
    "- **defender** Team that was the defender\n",
    "- **team_one_name** Name of first team in match\n",
    "- **team_two_name** Name of second team in match\n",
    "- **attacker_payload_distance** Distance the attacker moved the payload on payload maps\n",
    "- **defender_payload_distance** \n",
    "- **attacker_time_banked** Attacker time left over\n",
    "- **defender_time_banked** Defender time left over\n",
    "- **attacker_control_perecent** Percent objective was charged by the attacker team\n",
    "- **defender_control_perecent** Percent objective was charged by the defender team\n",
    "- **attacker_round_end_score** Attacker score at the end of this round\n",
    "- **defender_round_end_score** Defender score at the end of this round"
   ]
  },
  {
   "cell_type": "markdown",
   "id": "9a48b5c3-0672-49dc-8fee-ac8cc226651d",
   "metadata": {
    "tags": []
   },
   "source": [
    "**1d) (2 marks)** Answer the folowing question:\n",
    "\n",
    "Overwatch is aiming to expand their fanbase through the following advertising campaigns:\n",
    "\n",
    "- [ ] Advertising the most popular teams\n",
    "- [ ] Promoting a rematch between last years best teams\n",
    "- [ ] Creating an underdog story by highlighting last years worst performing teams\n",
    "- [ ] Which demographics are more likely to buy tickets?\n",
    "\n",
    "Which of these initiatives could directly benefit from an analysis of the data provided? Check all that apply.\n",
    "\n",
    "**Note:** You can create check marks by double-clicking this cell and adding an ```[x]``` in the corresponding lines. "
   ]
  },
  {
   "cell_type": "markdown",
   "id": "ce6b1952-6a8e-4c98-a038-534cdcfb9ef5",
   "metadata": {},
   "source": [
    "# Question 2 -- Cleaning the data (5 marks) \n",
    "\n",
    "In this dataset there are two types of maps, escort and control. On control maps, the teams try to control an objective until the meter reaches 100. On escort maps, the attacker tries to escort a payload to the end of the map, while the defender tries to stop it. Control maps can be found in the dataset by rows where the `control_perecent` is not 0 for at least one team. That is, `control_perecent` will be Nan or 0 for both teams when the map is **not** a control map. \n",
    "- 2a) **(1 marks)** Create a variable for map type called map_type, which has two possible values \"control\" and \"escort\". \n",
    "- 2b) **(2 marks)** For rows which correspond to control maps, set the time_banked and payload distance values to `NaN`. \n",
    "- 2c) **(2 marks)** Ensure that `round_start_time` and `round_end_time` time variables are in the `date_time` format and create a variable called `year` which contains the year the match took place"
   ]
  },
  {
   "cell_type": "markdown",
   "id": "f87a5856-3df0-4db4-b184-6bbaed32ded8",
   "metadata": {},
   "source": [
    "# Question 3 --  Win rates on control maps (14 marks) \n",
    "\n",
    "3a) **(2 marks)** Create and print a sorted list of the unique teams. Store this list in a variable called `teams`. "
   ]
  },
  {
   "cell_type": "markdown",
   "id": "f8e323ff-192e-4482-9697-95cc3e9a06f9",
   "metadata": {},
   "source": [
    "3b) **(1 marks)** Create and print a dictionary called `country` with team names as keys and their corresponding country as the entries. "
   ]
  },
  {
   "cell_type": "markdown",
   "id": "3b0834f7-5a74-42fa-b3e3-b6267468537d",
   "metadata": {},
   "source": [
    "A team's win rate is the number of games won divided by the total number of games played\n",
    "1. 3c) **(1 marks)** Subset the DataFrame so that it contains only the control maps.\n",
    "2. 3d) **(5 marks)** Make a horizontal bar chart displaying the win rate on control maps of each team, order the bar chart from lowest win rate to highest win rate, add a vertical line at 50%. Color the teams by country. **Hint it is useful to use the `sns.barplot` function, set the `dodge` argument as follows:`dodge=False` and make use of the `orient`, `hue` and `hue_order` arguements.**\n",
    "3. 3e) **(2 marks)** Which teams have a higher than 50% win rate? Do some countries produce better teams than others?\n"
   ]
  },
  {
   "cell_type": "markdown",
   "id": "e06d44f1-f08c-4076-a4e0-3ef21f5ffa8a",
   "metadata": {},
   "source": [
    "3f) **(3 marks)** Make the same plot for each year - are the yearly plots similar to the overall plot? "
   ]
  },
  {
   "cell_type": "markdown",
   "id": "b5b0609f-2e75-45f5-a469-454656a417b4",
   "metadata": {},
   "source": [
    "# Question 4 -- Win rates over time (17 marks)\n",
    "\n",
    "- 4a) **(3 marks)** Make a line of the Shanghai Dragons' win rate on control maps over time. \n",
    "- 4b) **(1 marks)** How would describe the Shanghai Dragons' win rate on control maps over time?\n",
    "- 4c) **(3 marks)** For each team who had a win rate on control maps in the top 5 in 2022, plot their win rates on control maps over time. \n",
    "- 4d) **(2 marks)** Make two observations about these plots. "
   ]
  },
  {
   "cell_type": "markdown",
   "id": "4aa17a1b-75f0-4990-8622-63fb32e82b04",
   "metadata": {},
   "source": [
    "- 4e) **(5 marks)** Instead of control maps, make a bar chart of the teams' win rates on the escort maps in 2022, i.e., consider only escort maps which occured in 2022 when computing this win rate. Make the same chart without subsetting to 2022, i.e., compute the escort map win rate for each team using maps which took place in any year. For example, the win rate chart on escort maps for 2022 should look like the following: <img src=\"WRE.png\" alt=\"drawing\" width=\"500\"/> Note that the vertical line at 50 is useful but not necessary. \n",
    "- 4f) **(3 marks)** Compare the 2022 win rates on control maps to those on the escort maps. What do you observe?\n"
   ]
  },
  {
   "cell_type": "markdown",
   "id": "e80cfb92-0436-40bd-80f8-4573a4da84b9",
   "metadata": {},
   "source": [
    "# Question 5 --  What map should Toronto work on improving? (18 marks)\n",
    "\n",
    "Suppose you have been contracted as an analyst for the Toronto Defiant team. \n",
    "\n",
    "- 5a) **(5 marks)**  There are different types of control maps, which can be found in the `control_round_name` column. Make a bar chart of Toronto's win rate on each individual control map (can be found in `control_round_name`) for 2022 and all time. For example, your plot might look like: \n",
    "<img src=\"WRTD.png\" alt=\"drawing\" width=\"500\"/>\n",
    "- 5b) **(5 marks)** Which plot should be used to make reccommendations for Toronto in 2023? Based on this judgement and the plot you generated, what map should Toronto practice the most? Are there any problems with this analysis?\n",
    "- 5c) **(2 marks)**  Assign each team a rank according to their 2022 control map win rate, with 1 being the highest win rate on control maps in 2022 and 20 being the lowest win rate on control maps in 2022. Print each team name with its rank beside it. \n",
    "- 5d) **(3 marks)** Determine Toronto's three best and three worst control map names (by win rate) in 2022. Print the mean rank of the teams Toronto played for each of these maps. \n",
    "- 5e) **(3 marks)** Compare the mean ranks on Toronto's best maps to their worst maps. What does this analysis reveal about Toronto's map-specific win rates?"
   ]
  },
  {
   "cell_type": "markdown",
   "id": "69eabc72-2a23-4c2d-b43f-4bf235891743",
   "metadata": {},
   "source": [
    "# Question 6 -- (9 marks) \n",
    "\n",
    "The league is considering changing the rules if too many matches (>5\\%) end in a draw. The league organizers consider draws to be bad for the game. \n",
    "\n",
    "\n",
    "- 6a) **(3 marks)** What proportion of escort maps end in a draw?\n",
    "- 6b) **(6 marks)** Make a bar plot of number of draws by map. Do certain escort maps have more draws? What proportion of draws happen on the maps with the two highest number of draws -- what would you tell the league organisers concerning this proportion?"
   ]
  },
  {
   "cell_type": "markdown",
   "id": "b7244665-cfea-49b3-9bd0-b5608439ec13",
   "metadata": {},
   "source": [
    "# Question 7 -- (8 marks) \n",
    "\n",
    "On escort maps, the attacker must push a \"payload\" a certain distance within an alotted time. If the attacker pushes the payload to the end of the map before the alotted time is up, then the attacker can bank that time. On the other hand, if the attacker does not push the payload to the end of the map, the distance they were able to push it is recorded. \n",
    "\n",
    "- 7a) **(4 marks)** On maps where the attacker won the round, print the summary statistics of the `attacker_time_banked` column, along with a histogram of the `attacker_time_banked` column. On maps where the attacker lost the round, print the summary statistics of the `attacker_payload_distance` column, along with a histogram of the `attacker_payload_distance` column. \n",
    "- 7b) **(4 marks)** Describe the characteristics of the histrograms and interpret the summary statistics in the context of the data. "
   ]
  }
 ],
 "metadata": {
  "kernelspec": {
   "display_name": "Python 3 (ipykernel)",
   "language": "python",
   "name": "python3"
  },
  "language_info": {
   "codemirror_mode": {
    "name": "ipython",
    "version": 3
   },
   "file_extension": ".py",
   "mimetype": "text/x-python",
   "name": "python",
   "nbconvert_exporter": "python",
   "pygments_lexer": "ipython3",
   "version": "3.11.0"
  }
 },
 "nbformat": 4,
 "nbformat_minor": 5
}
